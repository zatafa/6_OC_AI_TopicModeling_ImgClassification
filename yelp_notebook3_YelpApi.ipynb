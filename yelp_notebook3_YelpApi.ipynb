{
 "cells": [
  {
   "cell_type": "markdown",
   "id": "guided-rugby",
   "metadata": {},
   "source": [
    "**Author** : V.Joan Aléonard<br>\n",
    "**Last update** :  25 March 2021"
   ]
  },
  {
   "attachments": {
    "avis_restau-2.jpg": {
     "image/jpeg": "[encoded data removed]"
    }
   },
   "cell_type": "markdown",
   "id": "rough-collection",
   "metadata": {},
   "source": [
    "![avis_restau-2.jpg](attachment:avis_restau-2.jpg)"
   ]
  },
  {
   "cell_type": "markdown",
   "id": "architectural-providence",
   "metadata": {},
   "source": [
    "# <font color=red><center>**AVIS RESTAU**</center></font>"
   ]
  },
  {
   "cell_type": "markdown",
   "id": "irish-purchase",
   "metadata": {},
   "source": [
    "**Avis Restau** is a website which connects clients and restaurants:\n",
    "- The clients can publish reviews and photos of the restaurants;\n",
    "- The restaurants can leverage from customer's feedbacks for improvement.\n",
    "\n",
    "**As Data scientist for Avis Restau**, our mission is summarized as follows:\n",
    "\n",
    "| **Task** | **Objective** | **Available notebook** |\n",
    "| :-- | :-- | :-- |\n",
    "| Analyze customers' reviews | **Detect customer's insatisfaction topics** | Notebook N°1 |\n",
    "| Treat photo posted by customers | **Classify automatically customer's photos** | Notebook N°2 |\n",
    "| Collect new data throuhg API | **Enrich our database** | **<font color=green>Notebook N°3</font>** |\n",
    "\n",
    "This notebook is dedicated to 3rd task : collect new data through Yelp API to enrich our database."
   ]
  },
  {
   "cell_type": "markdown",
   "id": "romantic-winner",
   "metadata": {},
   "source": [
    "# <font color=red><center>**NOTEBOOK 3<br>DATA COLLECTION<br>THROUGH YELP API**</center></font>"
   ]
  },
  {
   "cell_type": "markdown",
   "id": "numerical-observer",
   "metadata": {},
   "source": [
    "# <font color=salmon>**OBJECTIVES**</font>"
   ]
  },
  {
   "cell_type": "markdown",
   "id": "chief-instrument",
   "metadata": {},
   "source": [
    "This notebook intends to gather a sample of **200 Paris restaurants details from Developers API (*Application Programming Interface*) provided by Yelp**:\n",
    "- by identifying the useful information;\n",
    "- by saving the result in a CSV (Comma-Separated Values) file.\n",
    "\n",
    "**Yelp API** documentation is available [here](https://www.yelp.com/developers/documentation/v3/get_started)."
   ]
  },
  {
   "cell_type": "markdown",
   "id": "shaped-fundamental",
   "metadata": {},
   "source": [
    "# <font color=salmon>**LIBRAIRIES**</font>"
   ]
  },
  {
   "cell_type": "markdown",
   "id": "architectural-driving",
   "metadata": {},
   "source": [
    "To gather the needed information, we will need to:\n",
    "- request the data from API with the request.get method;\n",
    "- handle JSON data with the json package;\n",
    "- transform, analyze and save the data with pandas package."
   ]
  },
  {
   "cell_type": "code",
   "execution_count": 1,
   "id": "immune-silver",
   "metadata": {
    "ExecuteTime": {
     "end_time": "2021-03-25T17:16:34.977607Z",
     "start_time": "2021-03-25T17:16:34.393984Z"
    }
   },
   "outputs": [],
   "source": [
    "# Libraries and Configurations\n",
    "import pandas as pd\n",
    "import requests\n",
    "import json\n",
    "from urllib.parse import urlparse\n",
    "\n",
    "pd.set_option('display.max_colwidth', 200)"
   ]
  },
  {
   "cell_type": "markdown",
   "id": "innocent-implement",
   "metadata": {},
   "source": [
    "# <font color=salmon>**API CREDENTIALS**</font>"
   ]
  },
  {
   "cell_type": "markdown",
   "id": "angry-hometown",
   "metadata": {},
   "source": [
    "Yelp **API credentials** are needed to authenticate API calls, because the API uses **private key authentication** to reach all available endpoints, which are necessary to return the requested details.\n",
    "\n",
    "***Business Search*** with **'https://api.yelp.com/v3/businesses/search'** endpoint will give us a tracking of restaurants, especially their IDs, which enables us to reach the related ***reviews*** with **'https://api.yelp.com/v3/businesses/{id}/reviews'** endpoint (3 excerpts for a business)."
   ]
  },
  {
   "cell_type": "code",
   "execution_count": 2,
   "id": "trained-symphony",
   "metadata": {
    "ExecuteTime": {
     "end_time": "2021-03-25T17:16:34.992440Z",
     "start_time": "2021-03-25T17:16:34.980603Z"
    }
   },
   "outputs": [],
   "source": [
    "# Import API key\n",
    "with open('credentials.json') as creds:\n",
    "    credentials = json.load(creds)\n",
    "\n",
    "api_key = credentials['api_key']\n",
    "\n",
    "# Define Headers and Endpoint's urls\n",
    "headers = {'Authorization': 'Bearer %s' % api_key,\n",
    "           'Content-Type':'application/json'}\n",
    "url = 'https://api.yelp.com/v3/businesses'"
   ]
  },
  {
   "cell_type": "markdown",
   "id": "sapphire-toilet",
   "metadata": {},
   "source": [
    "# <font color=salmon>**REQUEST AGAINST THE API**</font>"
   ]
  },
  {
   "cell_type": "markdown",
   "id": "stone-village",
   "metadata": {},
   "source": [
    "## <font color=green>**Get Paris restaurants IDs**</font>"
   ]
  },
  {
   "cell_type": "code",
   "execution_count": 3,
   "id": "stuffed-wheel",
   "metadata": {
    "ExecuteTime": {
     "end_time": "2021-03-25T17:16:40.871012Z",
     "start_time": "2021-03-25T17:16:34.996439Z"
    }
   },
   "outputs": [
    {
     "name": "stdout",
     "output_type": "stream",
     "text": [
      "0\n",
      "50\n",
      "100\n",
      "150\n",
      "200\n"
     ]
    }
   ],
   "source": [
    "# Create a list to store result\n",
    "resto_ids = []\n",
    "\n",
    "# Set a dictionary of parameters\n",
    "endpoint_1 = url + '/search'\n",
    "params = {'term':'restaurants',\n",
    "          'location':'Paris, France',\n",
    "          'offset':0,\n",
    "          'limit':50}\n",
    "\n",
    "# Set variables\n",
    "current_offset=0\n",
    "current_limit=50 \n",
    "total_response = 200\n",
    "\n",
    "while current_offset <= total_response:\n",
    "    # Provide evidence the API is working\n",
    "    print(current_offset)\n",
    "    \n",
    "    params['offset'] = current_offset\n",
    "    response = requests.get(url=endpoint_1,\n",
    "                            headers=headers,\n",
    "                            params=params)\n",
    "    \n",
    "    # Ensure we have unique business ID\n",
    "    # .json decode the format to Python object (dictionary)\n",
    "    if 'businesses' in response.json():\n",
    "        # Save IDs by adding with previous\n",
    "        resto_ids += [business['id'] for business in response.json()['businesses']]\n",
    "    \n",
    "    current_offset += current_limit"
   ]
  },
  {
   "cell_type": "markdown",
   "id": "organic-korean",
   "metadata": {},
   "source": [
    "## <font color=green>**Retrieve related reviews**</font>"
   ]
  },
  {
   "cell_type": "code",
   "execution_count": 4,
   "id": "present-carbon",
   "metadata": {
    "ExecuteTime": {
     "end_time": "2021-03-25T17:18:20.788197Z",
     "start_time": "2021-03-25T17:16:40.880201Z"
    }
   },
   "outputs": [],
   "source": [
    "#Create the dataframe which will receive the data\n",
    "data = pd.DataFrame(columns=['review_id',\n",
    "                             'business_id',\n",
    "                             'rating',\n",
    "                             'text'])\n",
    "#Retrieve the related reviews\n",
    "i=0\n",
    "for id in resto_ids:\n",
    "    endpoint_2 = url + '/' + str(id) + \"/reviews\"\n",
    "    response = requests.get(url=endpoint_2,\n",
    "                            headers=headers)\n",
    "    \n",
    "    for review in response.json()['reviews']:\n",
    "        data.loc[i]=[review['id'],\n",
    "                     id,\n",
    "                     review['rating'],\n",
    "                     review['text']]\n",
    "        i+=1"
   ]
  },
  {
   "cell_type": "markdown",
   "id": "demographic-ballet",
   "metadata": {},
   "source": [
    "## <font color=green>**Check DataFrame info**</font>"
   ]
  },
  {
   "cell_type": "code",
   "execution_count": 5,
   "id": "irish-california",
   "metadata": {
    "ExecuteTime": {
     "end_time": "2021-03-25T17:18:20.835929Z",
     "start_time": "2021-03-25T17:18:20.792223Z"
    }
   },
   "outputs": [
    {
     "name": "stdout",
     "output_type": "stream",
     "text": [
      "(732, 4)\n"
     ]
    },
    {
     "data": {
      "text/html": [
       "<div>\n",
       "<style scoped>\n",
       "    .dataframe tbody tr th:only-of-type {\n",
       "        vertical-align: middle;\n",
       "    }\n",
       "\n",
       "    .dataframe tbody tr th {\n",
       "        vertical-align: top;\n",
       "    }\n",
       "\n",
       "    .dataframe thead th {\n",
       "        text-align: right;\n",
       "    }\n",
       "</style>\n",
       "<table border=\"1\" class=\"dataframe\">\n",
       "  <thead>\n",
       "    <tr style=\"text-align: right;\">\n",
       "      <th></th>\n",
       "      <th>review_id</th>\n",
       "      <th>business_id</th>\n",
       "      <th>rating</th>\n",
       "      <th>text</th>\n",
       "    </tr>\n",
       "  </thead>\n",
       "  <tbody>\n",
       "    <tr>\n",
       "      <th>0</th>\n",
       "      <td>0GvOPvExrJQ8wqv6rDTPFQ</td>\n",
       "      <td>-0iLH7iQNYtoURciDpJf6w</td>\n",
       "      <td>5</td>\n",
       "      <td>The epitome of a classic French bistro in the middle of Paris.  We were fortunate to find a table available for a late lunch just by walking-in.  Based on...</td>\n",
       "    </tr>\n",
       "    <tr>\n",
       "      <th>1</th>\n",
       "      <td>4f5MWUZEuw4tpTd5OouLRQ</td>\n",
       "      <td>-0iLH7iQNYtoURciDpJf6w</td>\n",
       "      <td>5</td>\n",
       "      <td>I've been meaning to review this place forever... The food here is just fantastic, everything is delicious. Don't miss out on the ravioli, the cassoulet and...</td>\n",
       "    </tr>\n",
       "    <tr>\n",
       "      <th>2</th>\n",
       "      <td>_lV2X33T7KueX0_kmEXilA</td>\n",
       "      <td>-0iLH7iQNYtoURciDpJf6w</td>\n",
       "      <td>5</td>\n",
       "      <td>This restaurant is simply amazing!!! If you are debating on trying this restaurant, just do it !!! You will not be disappointed. The whole staff from...</td>\n",
       "    </tr>\n",
       "    <tr>\n",
       "      <th>3</th>\n",
       "      <td>ZmoR2TgBN7L4FdK__vFlJA</td>\n",
       "      <td>IU9_wVOGBKjfqTTpAXpKcQ</td>\n",
       "      <td>5</td>\n",
       "      <td>They are known for their gratin and they sure make it homely well!  It went hand in hand with the choice of meat and wine! \\n\\nI adored the smoked salmon and...</td>\n",
       "    </tr>\n",
       "    <tr>\n",
       "      <th>4</th>\n",
       "      <td>e-NjhR6Z4TgsIqZveCUjTg</td>\n",
       "      <td>IU9_wVOGBKjfqTTpAXpKcQ</td>\n",
       "      <td>5</td>\n",
       "      <td>When I find myself in Paris, I am always a few things:\\n\\n*happy (j'adore cette ville) \\n*grateful (self explanatory)\\n*thirsty (see you in a few Chez Georges /...</td>\n",
       "    </tr>\n",
       "  </tbody>\n",
       "</table>\n",
       "</div>"
      ],
      "text/plain": [
       "                review_id             business_id rating  \\\n",
       "0  0GvOPvExrJQ8wqv6rDTPFQ  -0iLH7iQNYtoURciDpJf6w      5   \n",
       "1  4f5MWUZEuw4tpTd5OouLRQ  -0iLH7iQNYtoURciDpJf6w      5   \n",
       "2  _lV2X33T7KueX0_kmEXilA  -0iLH7iQNYtoURciDpJf6w      5   \n",
       "3  ZmoR2TgBN7L4FdK__vFlJA  IU9_wVOGBKjfqTTpAXpKcQ      5   \n",
       "4  e-NjhR6Z4TgsIqZveCUjTg  IU9_wVOGBKjfqTTpAXpKcQ      5   \n",
       "\n",
       "                                                                                                                                                                  text  \n",
       "0        The epitome of a classic French bistro in the middle of Paris.  We were fortunate to find a table available for a late lunch just by walking-in.  Based on...  \n",
       "1      I've been meaning to review this place forever... The food here is just fantastic, everything is delicious. Don't miss out on the ravioli, the cassoulet and...  \n",
       "2             This restaurant is simply amazing!!! If you are debating on trying this restaurant, just do it !!! You will not be disappointed. The whole staff from...  \n",
       "3     They are known for their gratin and they sure make it homely well!  It went hand in hand with the choice of meat and wine! \\n\\nI adored the smoked salmon and...  \n",
       "4  When I find myself in Paris, I am always a few things:\\n\\n*happy (j'adore cette ville) \\n*grateful (self explanatory)\\n*thirsty (see you in a few Chez Georges /...  "
      ]
     },
     "execution_count": 5,
     "metadata": {},
     "output_type": "execute_result"
    }
   ],
   "source": [
    "# Display shape and 5 first rows\n",
    "print(data.shape)\n",
    "data.head()"
   ]
  },
  {
   "cell_type": "markdown",
   "id": "ordered-ordinance",
   "metadata": {},
   "source": [
    "## <font color=green>**Save as CSV file**</font>"
   ]
  },
  {
   "cell_type": "code",
   "execution_count": 6,
   "id": "motivated-scotland",
   "metadata": {
    "ExecuteTime": {
     "end_time": "2021-03-25T17:18:20.866943Z",
     "start_time": "2021-03-25T17:18:20.838962Z"
    }
   },
   "outputs": [],
   "source": [
    "# Save to CSV file\n",
    "data.to_csv('P6_01_CSV_YelpApiData.csv',\n",
    "            index=False,\n",
    "            encoding='utf-8')"
   ]
  }
 ],
 "metadata": {
  "kernelspec": {
   "display_name": "Python 3",
   "language": "python",
   "name": "python3"
  },
  "language_info": {
   "codemirror_mode": {
    "name": "ipython",
    "version": 3
   },
   "file_extension": ".py",
   "mimetype": "text/x-python",
   "name": "python",
   "nbconvert_exporter": "python",
   "pygments_lexer": "ipython3",
   "version": "3.8.3"
  },
  "toc": {
   "base_numbering": 1,
   "nav_menu": {},
   "number_sections": false,
   "sideBar": true,
   "skip_h1_title": false,
   "title_cell": "Table of Contents",
   "title_sidebar": "Contents",
   "toc_cell": false,
   "toc_position": {},
   "toc_section_display": true,
   "toc_window_display": true
  }
 },
 "nbformat": 4,
 "nbformat_minor": 5
}
